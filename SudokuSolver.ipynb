{
 "cells": [
  {
   "cell_type": "markdown",
   "metadata": {},
   "source": [
    "# Sudoku Solver"
   ]
  },
  {
   "cell_type": "markdown",
   "metadata": {},
   "source": [
    "_____________________________________________________________________________________________\n",
    "\n",
    "This is program will solve any input sudoku.\n",
    "Mark empty spaces with 0.\n",
    "_____________________________________________________________________________________________"
   ]
  },
  {
   "cell_type": "markdown",
   "metadata": {},
   "source": [
    "***Constraint Sadisfaction Problem for Sudoku*** \n",
    "<br>\n",
    "variables = { v_ij | 0 =< i < 9  and 0 =< j < 9 }\n",
    "<br>\n",
    "domains = {1,2,3,4,5,6,7,8,9}\n",
    "<br>\n",
    "constraints = {< (v_ij), for_all(y): ((0 =< y < 9) and (j != y)) => (v_ij != v_iy) >,\n",
    "<br>\n",
    "               < (v_ij), for_all(x): ((0 =< x < 9) and (j != x)) => (v_uj != v_xj) >,\n",
    "<br>\n",
    "               < (v_ij, for_all(v_xy): ((floor(x/3) = floor(i/3) and floor(y/3)=floor(j/3) and (x!=i or y!=j)) => v_ij!=v_xy >}\n",
    "                                   \n"
   ]
  },
  {
   "cell_type": "code",
   "execution_count": 15,
   "metadata": {},
   "outputs": [],
   "source": [
    "sudoku = [[0,3,0, 7,0,6, 0,2,8],\n",
    "          [0,0,0, 0,8,0, 0,0,9],\n",
    "          [0,0,2, 9,0,3, 5,6,0],\n",
    "\n",
    "          [0,2,0, 0,0,0, 0,9,4],\n",
    "          [0,0,3, 5,0,4, 1,0,0],\n",
    "          [7,8,0, 0,0,0, 0,5,0],\n",
    "\n",
    "          [0,4,7, 8,0,9, 2,0,0],\n",
    "          [2,0,0, 0,5,0, 0,0,0],\n",
    "          [9,5,0, 3,0,1, 0,4,6]]"
   ]
  },
  {
   "cell_type": "code",
   "execution_count": 2,
   "metadata": {},
   "outputs": [],
   "source": [
    "#Prints n whitespaces (for debug)\n",
    "def wsPrinter(n):\n",
    "    for i in range(0,n):\n",
    "        print(\"|\",end='')"
   ]
  },
  {
   "cell_type": "code",
   "execution_count": 3,
   "metadata": {},
   "outputs": [],
   "source": [
    "#prints sudoku\n",
    "def printSudoku(s):\n",
    "    for l in s:\n",
    "        print(l,\"\\n\")"
   ]
  },
  {
   "cell_type": "code",
   "execution_count": 4,
   "metadata": {},
   "outputs": [],
   "source": [
    "#find remaining values for one variables at the beginning\n",
    "\n",
    "def findSet(sdk,x,y):\n",
    "    #determine posible solutions in set\n",
    "    s = []\n",
    "    if(sdk[x][y]!=0):\n",
    "        s = []\n",
    "    else:    \n",
    "        \n",
    "        s = [1,2,3,4,5,6,7,8,9]\n",
    "        for n in range(1,10):\n",
    "            deleted = False\n",
    "            # < (v_ij), for_all(x): ((0 =< x < 9) and (j != x)) => (v_uj != v_xj) >\n",
    "            for i in range(0,9):\n",
    "                if(n==sdk[i][y]):\n",
    "                    del s[s.index(n)]\n",
    "                    deleted = True\n",
    "                    break \n",
    "            # < (v_ij), for_all(y): ((0 =< y < 9) and (j != y)) => (v_ij != v_iy) >\n",
    "            if(not deleted):\n",
    "                for j in range(0,9):\n",
    "                    if(n==sdk[x][j]):\n",
    "                        del s[s.index(n)]\n",
    "                        deleted = True\n",
    "                        break\n",
    "            # < (v_ij, for_all(v_xy): ((floor(x/3) = floor(i/3) and floor(y/3)=floor(j/3) and (x!=i or y!=j)) => v_ij!=v_xy >\n",
    "            if(not deleted):\n",
    "                for i in range(int(x/3)*3,int(x/3)*3+3):\n",
    "                    for j in range(int(y/3)*3,int(y/3)*3+3):\n",
    "                        if(n==sdk[i][j]):\n",
    "                            del s[s.index(n)]\n",
    "                            deleted = True\n",
    "                            break\n",
    "    \n",
    "    return s       "
   ]
  },
  {
   "cell_type": "code",
   "execution_count": 5,
   "metadata": {},
   "outputs": [],
   "source": [
    "#find remaining values for all variables at the beginning\n",
    "\n",
    "def createSets(sdk):\n",
    "    sets = [[0 for a in range(0,9)] for b in range(0,9)]\n",
    "    for i in range(0,9):\n",
    "        for j in range(0,9):\n",
    "            sets[i][j]=findSet(sdk,i,j)\n",
    "            \n",
    "    return sets   \n"
   ]
  },
  {
   "cell_type": "code",
   "execution_count": 6,
   "metadata": {},
   "outputs": [],
   "source": [
    "#find variable with minimum remaining values\n",
    "\n",
    "def findMinimum(sets):\n",
    "    minI = 0\n",
    "    minJ = 0\n",
    "    minL = 9\n",
    "    for i in range(len(sets)):\n",
    "        for j in range(len(sets[i])):\n",
    "            if(len(sets[i][j]) > 0 and len(sets[i][j]) < minL):\n",
    "                minI = i\n",
    "                minJ = j\n",
    "                minL = len(sets[i][j])\n",
    "                \n",
    "    return [minI,minJ]"
   ]
  },
  {
   "cell_type": "code",
   "execution_count": 7,
   "metadata": {},
   "outputs": [],
   "source": [
    "def solve(sdk):\n",
    "    for i in range(81):\n",
    "        sets = createSets(sdk)\n",
    "\n",
    "        for i in range(0,9):\n",
    "            for j in range(0,9):\n",
    "                if(len(sets[i][j])==1):\n",
    "                    sdk[i][j]=sets[i][j][0]\n",
    "            "
   ]
  },
  {
   "cell_type": "code",
   "execution_count": 45,
   "metadata": {},
   "outputs": [],
   "source": [
    "def isArcConsistantFor(sets,x,y,v):\n",
    "    arccon = True\n",
    "    for i in range(0,9):\n",
    "        #row\n",
    "        if(i != y and len(sets[x][i])==1 and sets[x][i][0] == v):\n",
    "            arccon = False\n",
    "        #column\n",
    "        if(i != x and len(sets[i][y])==1 and sets[i][y][0] == v):\n",
    "            arccon = False\n",
    "        #cell block\n",
    "        icb = int(x/3)*3 + int(i/3)\n",
    "        jcb = int(y/3)*3 + int(i%3) \n",
    "        if(icb!=x and jcb!=y and len(sets[icb][jcb])==1 and sets[icb][jcb][0] == v):\n",
    "            arccon = False\n",
    "        \n",
    "    return arccon"
   ]
  },
  {
   "cell_type": "code",
   "execution_count": 46,
   "metadata": {},
   "outputs": [],
   "source": [
    "def makeArcConsistant(sets):\n",
    "    for i in range(0,9):\n",
    "        for j in range(0,9):\n",
    "            for v in sets[i][j]:\n",
    "                if(not isArcConsistantFor(sets,i,j,v)):\n",
    "                    del sets[i][j][sets[i][j].index(v)]"
   ]
  },
  {
   "cell_type": "code",
   "execution_count": 51,
   "metadata": {},
   "outputs": [
    {
     "name": "stdout",
     "output_type": "stream",
     "text": [
      "[[1, 4, 5], [], [1, 4, 5, 9], [], [1, 4], [], [4], [], []] \n",
      "\n",
      "[[1, 4, 5, 6], [1, 6, 7], [1, 4, 5, 6], [1, 2, 4], [], [2, 5], [3, 4, 7], [1, 3, 7], []] \n",
      "\n",
      "[[1, 4, 8], [1, 7], [], [], [1, 4], [], [], [], [1, 7]] \n",
      "\n",
      "[[1, 5, 6], [], [1, 5, 6], [1, 6], [1, 3, 6, 7], [7, 8], [3, 6, 7, 8], [], []] \n",
      "\n",
      "[[6], [6, 9], [], [], [2, 6, 7, 9], [], [], [7, 8], [2, 7]] \n",
      "\n",
      "[[], [], [1, 4, 6, 9], [1, 2, 6], [1, 2, 3, 6, 9], [2], [3, 6], [], [2, 3]] \n",
      "\n",
      "[[1, 3, 6], [], [], [], [6], [], [], [1, 3], [1, 3, 5]] \n",
      "\n",
      "[[], [1, 6], [1, 6, 8], [4, 6], [], [7], [3, 7, 8, 9], [1, 3, 7, 8], [1, 3, 7]] \n",
      "\n",
      "[[], [], [8], [], [2, 7], [], [7, 8], [], []] \n",
      "\n",
      "\n",
      "\n",
      "[[1, 5], [], [1, 5, 9], [], [1], [], [4], [], []] \n",
      "\n",
      "[[1, 4, 5], [1, 6, 7], [1, 4, 5, 6], [2, 4], [], [5], [3, 7], [1, 3, 7], []] \n",
      "\n",
      "[[1, 4, 8], [1, 7], [], [], [4], [], [], [], [1, 7]] \n",
      "\n",
      "[[1, 5], [], [1, 5], [1, 6], [3, 7], [8], [3, 6, 7], [], []] \n",
      "\n",
      "[[6], [9], [], [], [6, 7], [], [], [7, 8], [2, 7]] \n",
      "\n",
      "[[], [], [1, 4, 9], [1, 6], [2, 3, 9], [2], [3, 6], [], [3]] \n",
      "\n",
      "[[1, 3], [], [], [], [6], [], [], [1, 3], [1, 5]] \n",
      "\n",
      "[[], [1, 6], [1, 6], [4], [], [7], [3, 8, 9], [1, 3, 8], [1, 7]] \n",
      "\n",
      "[[], [], [8], [], [2], [], [7], [], []] \n",
      "\n"
     ]
    }
   ],
   "source": [
    "sets = createSets(sudoku)\n",
    "printSudoku(sets)\n",
    "print(\"\\n\")\n",
    "makeArcConsistant(sets)\n",
    "printSudoku(sets)"
   ]
  },
  {
   "cell_type": "code",
   "execution_count": 52,
   "metadata": {
    "scrolled": true
   },
   "outputs": [
    {
     "name": "stdout",
     "output_type": "stream",
     "text": [
      "[5, 3, 9, 7, 1, 6, 4, 2, 8] \n",
      "\n",
      "[4, 7, 0, 2, 8, 5, 3, 1, 9] \n",
      "\n",
      "[8, 1, 2, 9, 4, 3, 5, 6, 7] \n",
      "\n",
      "[1, 2, 5, 1, 3, 8, 6, 9, 4] \n",
      "\n",
      "[6, 9, 3, 5, 7, 4, 1, 8, 2] \n",
      "\n",
      "[7, 8, 4, 1, 9, 2, 6, 5, 3] \n",
      "\n",
      "[0, 4, 7, 8, 6, 9, 2, 3, 5] \n",
      "\n",
      "[2, 6, 6, 4, 5, 7, 0, 0, 1] \n",
      "\n",
      "[9, 5, 8, 3, 2, 1, 7, 4, 6] \n",
      "\n"
     ]
    }
   ],
   "source": [
    "solve(sudoku)\n",
    "printSudoku(sudoku)   "
   ]
  },
  {
   "cell_type": "code",
   "execution_count": null,
   "metadata": {},
   "outputs": [],
   "source": []
  },
  {
   "cell_type": "code",
   "execution_count": null,
   "metadata": {},
   "outputs": [],
   "source": []
  },
  {
   "cell_type": "code",
   "execution_count": 13,
   "metadata": {},
   "outputs": [
    {
     "name": "stdout",
     "output_type": "stream",
     "text": [
      "3 3\n",
      "3 4\n",
      "3 5\n",
      "4 3\n",
      "4 4\n",
      "4 5\n",
      "5 3\n",
      "5 4\n",
      "5 5\n"
     ]
    }
   ],
   "source": []
  },
  {
   "cell_type": "code",
   "execution_count": null,
   "metadata": {},
   "outputs": [],
   "source": []
  }
 ],
 "metadata": {
  "kernelspec": {
   "display_name": "Python 3",
   "language": "python",
   "name": "python3"
  },
  "language_info": {
   "codemirror_mode": {
    "name": "ipython",
    "version": 3
   },
   "file_extension": ".py",
   "mimetype": "text/x-python",
   "name": "python",
   "nbconvert_exporter": "python",
   "pygments_lexer": "ipython3",
   "version": "3.6.4"
  }
 },
 "nbformat": 4,
 "nbformat_minor": 2
}
