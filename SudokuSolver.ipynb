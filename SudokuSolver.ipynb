{
 "cells": [
  {
   "cell_type": "markdown",
   "metadata": {},
   "source": [
    "# Sudoku Solver"
   ]
  },
  {
   "cell_type": "markdown",
   "metadata": {},
   "source": [
    "_____________________________________________________________________________________________\n",
    "\n",
    "This is program will solve any input sudoku.\n",
    "Mark empty spaces with 0.\n",
    "_____________________________________________________________________________________________"
   ]
  },
  {
   "cell_type": "markdown",
   "metadata": {},
   "source": [
    "***Constraint Sadisfaction Problem for Sudoku*** \n",
    "<br>\n",
    "variables = { v_ij | 0 =< i < 9  and 0 =< j < 9 }\n",
    "<br>\n",
    "domains = {1,2,3,4,5,6,7,8,9}\n",
    "<br>\n",
    "constraints = {< (v_ij), for_all(y): ((0 =< y < 9) and (j != y)) => (v_ij != v_iy) >,\n",
    "<br>\n",
    "               < (v_ij), for_all(x): ((0 =< x < 9) and (j != x)) => (v_uj != v_xj) >,\n",
    "<br>\n",
    "               < (v_ij, for_all(v_xy): ((floor(x/3) = floor(i/3) and floor(y/3)=floor(j/3) and (x!=i or y!=j)) => v_ij!=v_xy >}\n",
    "                                   \n"
   ]
  },
  {
   "cell_type": "code",
   "execution_count": 29,
   "metadata": {},
   "outputs": [],
   "source": [
    "def getSudoku():\n",
    "    return [[2,0,0, 8,0,4, 0,0,6],\n",
    "          [0,0,6, 0,0,0, 5,0,0],\n",
    "          [0,0,0, 0,0,0, 9,2,0],\n",
    "\n",
    "          [3,0,0, 0,4,0, 0,0,7],\n",
    "          [0,0,0, 3,0,5, 0,0,0],\n",
    "          [4,0,0, 0,6,0, 0,0,9],\n",
    "\n",
    "          [0,1,9, 0,0,0, 7,4,0],\n",
    "          [0,0,8, 0,0,0, 2,0,0],\n",
    "          [5,0,0, 6,0,7, 0,0,2]]"
   ]
  },
  {
   "cell_type": "code",
   "execution_count": 30,
   "metadata": {},
   "outputs": [],
   "source": [
    "sudoku = getSudoku()"
   ]
  },
  {
   "cell_type": "code",
   "execution_count": 2,
   "metadata": {},
   "outputs": [],
   "source": [
    "#Prints n whitespaces (for debug)\n",
    "def wsPrinter(n):\n",
    "    for i in range(0,n):\n",
    "        print(\"|\",end='')"
   ]
  },
  {
   "cell_type": "code",
   "execution_count": 3,
   "metadata": {},
   "outputs": [],
   "source": [
    "#prints sudoku\n",
    "def printSudoku(s):\n",
    "    for l in s:\n",
    "        print(l,\"\\n\")"
   ]
  },
  {
   "cell_type": "code",
   "execution_count": 4,
   "metadata": {},
   "outputs": [],
   "source": [
    "#find remaining values for one variables at the beginning\n",
    "\n",
    "def findSet(sdk,x,y):\n",
    "    #determine posible solutions in set\n",
    "    s = []\n",
    "    if(sdk[x][y]!=0):\n",
    "        s = []\n",
    "    else:    \n",
    "        \n",
    "        s = [1,2,3,4,5,6,7,8,9]\n",
    "        for n in range(1,10):\n",
    "            deleted = False\n",
    "            # < (v_ij), for_all(x): ((0 =< x < 9) and (j != x)) => (v_uj != v_xj) >\n",
    "            for i in range(0,9):\n",
    "                if(n==sdk[i][y]):\n",
    "                    del s[s.index(n)]\n",
    "                    deleted = True\n",
    "                    break \n",
    "            # < (v_ij), for_all(y): ((0 =< y < 9) and (j != y)) => (v_ij != v_iy) >\n",
    "            if(not deleted):\n",
    "                for j in range(0,9):\n",
    "                    if(n==sdk[x][j]):\n",
    "                        del s[s.index(n)]\n",
    "                        deleted = True\n",
    "                        break\n",
    "            # < (v_ij, for_all(v_xy): ((floor(x/3) = floor(i/3) and floor(y/3)=floor(j/3) and (x!=i or y!=j)) => v_ij!=v_xy >\n",
    "            if(not deleted):\n",
    "                for i in range(int(x/3)*3,int(x/3)*3+3):\n",
    "                    for j in range(int(y/3)*3,int(y/3)*3+3):\n",
    "                        if(n==sdk[i][j]):\n",
    "                            del s[s.index(n)]\n",
    "                            deleted = True\n",
    "                            break\n",
    "    \n",
    "    return s       "
   ]
  },
  {
   "cell_type": "code",
   "execution_count": 5,
   "metadata": {},
   "outputs": [],
   "source": [
    "#find remaining values for all variables at the beginning\n",
    "\n",
    "def createSets(sdk):\n",
    "    sets = [[0 for a in range(0,9)] for b in range(0,9)]\n",
    "    for i in range(0,9):\n",
    "        for j in range(0,9):\n",
    "            sets[i][j]=findSet(sdk,i,j)\n",
    "            \n",
    "    return sets   \n"
   ]
  },
  {
   "cell_type": "code",
   "execution_count": 6,
   "metadata": {},
   "outputs": [],
   "source": [
    "#find variable with minimum remaining values\n",
    "\n",
    "def findMinimum(sets):\n",
    "    minI = -1\n",
    "    minJ = -1\n",
    "    minL = 9\n",
    "    for i in range(len(sets)):\n",
    "        for j in range(len(sets[i])):\n",
    "            if(len(sets[i][j]) > 0 and len(sets[i][j]) < minL):\n",
    "                minI = i\n",
    "                minJ = j\n",
    "                minL = len(sets[i][j])\n",
    "                \n",
    "    return [minI,minJ]"
   ]
  },
  {
   "cell_type": "code",
   "execution_count": 7,
   "metadata": {},
   "outputs": [],
   "source": [
    "#find value that eliminates the least choices for other variables\n",
    "\n",
    "def findLeastConstrainingValue(sets,x,y):\n",
    "    count =[0 for n in range(0,len(sets[x][y]))]\n",
    "    for i in range(0,9):\n",
    "        #iterate values\n",
    "        for n in range(0,len(sets[x][y])):\n",
    "            #row\n",
    "            if(sets[x][y][n] in sets[x][i]):\n",
    "                count[n]+=1\n",
    "            #column\n",
    "            if(sets[x][y][n] in sets[i][y]):\n",
    "                count[n]+=1\n",
    "            #cell block\n",
    "            icb = int(x/3)*3 + int(i/3)\n",
    "            jcb = int(y/3)*3 + int(i%3) \n",
    "            if(sets[x][y][n] in sets[icb][jcb]):\n",
    "                count[n]+=1\n",
    "            \n",
    "    return sets[x][y][count.index(min(count))]"
   ]
  },
  {
   "cell_type": "code",
   "execution_count": 8,
   "metadata": {},
   "outputs": [],
   "source": [
    "#tests if sets is arc consistent if (x,y) has the value v\n",
    "#(x,y) is arc consistent with (i,j) if for every value in (x,y) there is a diffrent value in (i,j)\n",
    "\n",
    "def isArcConsistentFor(sets,x,y,v):\n",
    "    arccon = True\n",
    "    for i in range(0,9):\n",
    "        #row\n",
    "        if(i != y and len(sets[x][i])==1 and sets[x][i][0] == v):\n",
    "            arccon = False\n",
    "        #column\n",
    "        if(i != x and len(sets[i][y])==1 and sets[i][y][0] == v):\n",
    "            arccon = False\n",
    "        #cell block\n",
    "        icb = int(x/3)*3 + int(i/3)\n",
    "        jcb = int(y/3)*3 + int(i%3) \n",
    "        if(icb!=x and jcb!=y and len(sets[icb][jcb])==1 and sets[icb][jcb][0] == v):\n",
    "            arccon = False\n",
    "        \n",
    "    return arccon"
   ]
  },
  {
   "cell_type": "code",
   "execution_count": 9,
   "metadata": {},
   "outputs": [],
   "source": [
    "# makes sets arc consistent\n",
    "\n",
    "def makeArcConsistent(sets):\n",
    "    for i in range(0,9):\n",
    "        for j in range(0,9):\n",
    "            for v in sets[i][j]:\n",
    "                if(not isArcConsistentFor(sets,i,j,v)):\n",
    "                    del sets[i][j][sets[i][j].index(v)]"
   ]
  },
  {
   "cell_type": "code",
   "execution_count": 10,
   "metadata": {},
   "outputs": [],
   "source": [
    "#checks if sudoku is solved\n",
    "\n",
    "def isSolved(sdk):\n",
    "    for row in sdk:\n",
    "        for v in row:\n",
    "            if(v == 0):\n",
    "                return False\n",
    "    return True"
   ]
  },
  {
   "cell_type": "code",
   "execution_count": 31,
   "metadata": {},
   "outputs": [],
   "source": [
    "def hasPossibilitysLeft(sets):\n",
    "    for row in sets:\n",
    "        for v in row:\n",
    "            if(len(v)>0):\n",
    "                return True\n",
    "    return False"
   ]
  },
  {
   "cell_type": "code",
   "execution_count": 23,
   "metadata": {},
   "outputs": [],
   "source": [
    "def solve(sdk):\n",
    "    sdkTemp = sdk\n",
    "    sets = createSets(sdk)\n",
    "    while(not isSolved(sdk)):\n",
    "        makeArcConsistent(sets)\n",
    "        \n",
    "            "
   ]
  },
  {
   "cell_type": "code",
   "execution_count": 27,
   "metadata": {
    "scrolled": true
   },
   "outputs": [
    {
     "name": "stdout",
     "output_type": "stream",
     "text": [
      "[2, 0, 0, 8, 0, 4, 0, 0, 6] \n",
      "\n",
      "[0, 0, 6, 0, 0, 0, 5, 0, 0] \n",
      "\n",
      "[0, 0, 0, 0, 0, 0, 9, 2, 0] \n",
      "\n",
      "[3, 0, 0, 0, 4, 0, 0, 0, 7] \n",
      "\n",
      "[0, 0, 0, 3, 0, 5, 0, 0, 0] \n",
      "\n",
      "[4, 0, 0, 0, 6, 0, 0, 0, 9] \n",
      "\n",
      "[6, 1, 9, 0, 0, 0, 7, 4, 0] \n",
      "\n",
      "[7, 0, 8, 0, 0, 0, 2, 0, 0] \n",
      "\n",
      "[5, 0, 0, 6, 0, 7, 0, 0, 2] \n",
      "\n"
     ]
    }
   ],
   "source": [
    "sudoku = getSudoku()\n",
    "solve(sudoku)\n",
    "printSudoku(sudoku)   "
   ]
  },
  {
   "cell_type": "code",
   "execution_count": 28,
   "metadata": {},
   "outputs": [
    {
     "name": "stdout",
     "output_type": "stream",
     "text": [
      "[[], [3, 5, 7, 9], [1, 3, 5, 7], [], [1, 3, 5, 7, 9], [], [1, 3], [1, 3, 7], []] \n",
      "\n",
      "[[1, 8, 9], [3, 4, 7, 8, 9], [], [1, 2, 7, 9], [1, 2, 3, 7, 9], [1, 2, 3, 9], [], [1, 3, 7, 8], [1, 3, 4, 8]] \n",
      "\n",
      "[[1, 8], [3, 4, 5, 7, 8], [1, 3, 4, 5, 7], [1, 5, 7], [1, 3, 5, 7], [1, 3, 6], [], [], [1, 3, 4, 8]] \n",
      "\n",
      "[[], [2, 5, 6, 8, 9], [1, 2, 5], [1, 2, 9], [], [1, 2, 8, 9], [1, 6, 8], [1, 5, 6, 8], []] \n",
      "\n",
      "[[1, 8, 9], [2, 6, 7, 8, 9], [1, 2, 7], [], [1, 2, 7, 8, 9], [], [1, 4, 6, 8], [1, 6, 8], [1, 4, 8]] \n",
      "\n",
      "[[], [2, 5, 7, 8], [1, 2, 5, 7], [1, 2, 7], [], [1, 2, 8], [1, 3, 8], [1, 3, 5, 8], []] \n",
      "\n",
      "[[], [], [], [2, 5], [2, 3, 5, 8], [2, 3, 8], [], [], [3, 5, 8]] \n",
      "\n",
      "[[], [3, 4], [], [1, 4, 5, 9], [1, 3, 5, 9], [1, 3, 9], [], [1, 3, 5, 6, 9], [1, 3, 5]] \n",
      "\n",
      "[[], [3, 4], [3, 4], [], [1, 3, 8, 9], [], [1, 3, 8], [1, 3, 8, 9], []] \n",
      "\n",
      "False\n"
     ]
    }
   ],
   "source": [
    "sets = createSets(sudoku)\n",
    "makeArcConsistent(sets)\n",
    "printSudoku(sets)\n",
    "\n",
    "print(isSolved(sudoku))"
   ]
  },
  {
   "cell_type": "code",
   "execution_count": null,
   "metadata": {},
   "outputs": [],
   "source": []
  },
  {
   "cell_type": "code",
   "execution_count": null,
   "metadata": {},
   "outputs": [],
   "source": []
  },
  {
   "cell_type": "code",
   "execution_count": 2,
   "metadata": {},
   "outputs": [
    {
     "data": {
      "text/plain": [
       "2"
      ]
     },
     "execution_count": 2,
     "metadata": {},
     "output_type": "execute_result"
    }
   ],
   "source": [
    "min([5,2,3])"
   ]
  },
  {
   "cell_type": "code",
   "execution_count": null,
   "metadata": {},
   "outputs": [],
   "source": []
  }
 ],
 "metadata": {
  "kernelspec": {
   "display_name": "Python 3",
   "language": "python",
   "name": "python3"
  },
  "language_info": {
   "codemirror_mode": {
    "name": "ipython",
    "version": 3
   },
   "file_extension": ".py",
   "mimetype": "text/x-python",
   "name": "python",
   "nbconvert_exporter": "python",
   "pygments_lexer": "ipython3",
   "version": "3.6.4"
  }
 },
 "nbformat": 4,
 "nbformat_minor": 2
}
