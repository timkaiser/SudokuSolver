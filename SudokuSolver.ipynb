{
 "cells": [
  {
   "cell_type": "markdown",
   "metadata": {},
   "source": [
    "# Sudoku Solver"
   ]
  },
  {
   "cell_type": "markdown",
   "metadata": {},
   "source": [
    "_____________________________________________________________________________________________\n",
    "\n",
    "This is program will solve any input sudoku.\n",
    "Mark empty spaces with 0.\n",
    "_____________________________________________________________________________________________"
   ]
  },
  {
   "cell_type": "code",
   "execution_count": 8,
   "metadata": {},
   "outputs": [],
   "source": [
    "sudoku = [[0,3,0, 7,0,6, 0,2,8],\n",
    "          [0,0,0, 0,8,0, 0,0,9],\n",
    "          [0,0,2, 9,0,3, 5,6,0],\n",
    "\n",
    "          [0,2,0, 0,0,0, 0,9,4],\n",
    "          [0,0,3, 5,0,4, 1,0,0],\n",
    "          [7,8,0, 0,0,0, 0,5,0],\n",
    "\n",
    "          [0,4,7, 8,0,9, 2,0,0],\n",
    "          [2,0,0, 0,5,0, 0,0,0],\n",
    "          [9,5,0, 3,0,1, 0,4,0]]"
   ]
  },
  {
   "cell_type": "code",
   "execution_count": 9,
   "metadata": {},
   "outputs": [],
   "source": [
    "#Prints n whitespaces (for debug)\n",
    "def wsPrinter(n):\n",
    "    for i in range(0,n):\n",
    "        print(\"|\",end='')"
   ]
  },
  {
   "cell_type": "code",
   "execution_count": 12,
   "metadata": {},
   "outputs": [],
   "source": [
    "def printSudoku(s):\n",
    "    for l in s:\n",
    "        print(l,\"\\n\")"
   ]
  },
  {
   "cell_type": "code",
   "execution_count": 44,
   "metadata": {},
   "outputs": [],
   "source": [
    "def findSet(sdk,x,y):\n",
    "    #determine posible solutions in set\n",
    "    s = []\n",
    "    if(sdk[x][y]!=0):\n",
    "        s = [sdk[x][y]]\n",
    "    else:        \n",
    "        s = [1,2,3,4,5,6,7,8,9]\n",
    "        for n in range(1,10):\n",
    "            deleted = False\n",
    "            for i in range(0,9):\n",
    "                if(n==sdk[i][y]):\n",
    "                    del s[s.index(n)]\n",
    "                    deleted = True\n",
    "                    break       \n",
    "            if(not deleted):\n",
    "                for j in range(0,9):\n",
    "                    if(n==sdk[x][j]):\n",
    "                        del s[s.index(n)]\n",
    "                        deleted = True\n",
    "                        break\n",
    "            if(not deleted):\n",
    "                for i in range(int(x/3)*3,int(x/3)*3+3):\n",
    "                    for j in range(int(y/3)*3,int(y/3)*3+3):\n",
    "                        if(n==sdk[i][j]):\n",
    "                            del s[s.index(n)]\n",
    "                            deleted = True\n",
    "                            break\n",
    "    \n",
    "    return s       "
   ]
  },
  {
   "cell_type": "code",
   "execution_count": 45,
   "metadata": {},
   "outputs": [],
   "source": [
    "def createSets(sdk):\n",
    "    sets = [[0 for a in range(0,9)] for b in range(0,9)]\n",
    "    for i in range(0,9):\n",
    "        for j in range(0,9):\n",
    "            sets[i][j]=findSet(sdk,i,j)\n",
    "            \n",
    "    return sets   \n"
   ]
  },
  {
   "cell_type": "code",
   "execution_count": 46,
   "metadata": {},
   "outputs": [],
   "source": [
    "def solve(sdk):\n",
    "    for i in range(81):\n",
    "        sets = createSets(sdk)\n",
    "\n",
    "        for i in range(0,9):\n",
    "            for j in range(0,9):\n",
    "                if(len(sets[i][j])==1):\n",
    "                    sdk[i][j]=sets[i][j][0]\n",
    "            "
   ]
  },
  {
   "cell_type": "code",
   "execution_count": 47,
   "metadata": {
    "scrolled": true
   },
   "outputs": [
    {
     "name": "stdout",
     "output_type": "stream",
     "text": [
      "[5, 3, 9, 7, 1, 6, 4, 2, 8] \n",
      "\n",
      "[4, 6, 1, 2, 8, 5, 3, 7, 9] \n",
      "\n",
      "[8, 7, 2, 9, 4, 3, 5, 6, 1] \n",
      "\n",
      "[1, 2, 5, 6, 3, 8, 7, 9, 4] \n",
      "\n",
      "[6, 9, 3, 5, 7, 4, 1, 8, 2] \n",
      "\n",
      "[7, 8, 4, 1, 9, 2, 6, 5, 3] \n",
      "\n",
      "[3, 4, 7, 8, 6, 9, 2, 1, 5] \n",
      "\n",
      "[2, 1, 8, 4, 5, 7, 9, 3, 6] \n",
      "\n",
      "[9, 5, 6, 3, 2, 1, 8, 4, 7] \n",
      "\n"
     ]
    }
   ],
   "source": [
    "solve(sudoku)\n",
    "printSudoku(sudoku)   "
   ]
  },
  {
   "cell_type": "code",
   "execution_count": 51,
   "metadata": {},
   "outputs": [
    {
     "name": "stdout",
     "output_type": "stream",
     "text": [
      "[5, 3, 9, 7, 4, 6, 0, 2, 8] \n",
      "\n",
      "[6, 7, 5, 2, 8, 0, 0, 0, 9] \n",
      "\n",
      "[8, 7, 2, 9, 1, 3, 5, 6, 0] \n",
      "\n",
      "[6, 2, 1, 6, 7, 0, 0, 9, 4] \n",
      "\n",
      "[6, 9, 3, 5, 7, 4, 1, 0, 0] \n",
      "\n",
      "[7, 8, 4, 2, 9, 0, 0, 5, 0] \n",
      "\n",
      "[3, 4, 7, 8, 6, 9, 2, 0, 0] \n",
      "\n",
      "[2, 1, 8, 4, 5, 0, 0, 0, 0] \n",
      "\n",
      "[9, 5, 8, 3, 2, 1, 0, 4, 0] \n",
      "\n"
     ]
    }
   ],
   "source": [
    "printSudoku(sudoku)"
   ]
  },
  {
   "cell_type": "code",
   "execution_count": 43,
   "metadata": {},
   "outputs": [
    {
     "name": "stdout",
     "output_type": "stream",
     "text": [
      "0 0\n",
      "0 1\n",
      "0 2\n"
     ]
    }
   ],
   "source": []
  },
  {
   "cell_type": "code",
   "execution_count": null,
   "metadata": {},
   "outputs": [],
   "source": []
  },
  {
   "cell_type": "code",
   "execution_count": null,
   "metadata": {},
   "outputs": [],
   "source": [
    "#iterate possible solutions \n",
    "    solved = False\n",
    "    \n",
    "    if(len(set)!=0):\n",
    "        for n in set:\n",
    "            s[x][y] = n\n",
    "            i = (x+1)%9\n",
    "            j = (y+int((x+1)/9))\n",
    "            \n",
    "            wsPrinter(numb)\n",
    "            print(\"(\",x,y,\")\",set,\":\",n)\n",
    "            \n",
    "            if(i==0 and j==9):\n",
    "                solved = True\n",
    "            else: \n",
    "                if(i<9 and j<9 and not solved):\n",
    "                    solved = solveRecursive(s,i,j,numb+1)\n",
    "            \n",
    "            #wsPrinter(numb)\n",
    "            #print(\"}\")\n",
    "            \n",
    "        #if(not solved):\n",
    "            #s[x][y]=0\n",
    "    else:\n",
    "        print(\"<--\",\"(\",x,y,\")\",set)\n",
    "    return solved     "
   ]
  }
 ],
 "metadata": {
  "kernelspec": {
   "display_name": "Python 3",
   "language": "python",
   "name": "python3"
  },
  "language_info": {
   "codemirror_mode": {
    "name": "ipython",
    "version": 3
   },
   "file_extension": ".py",
   "mimetype": "text/x-python",
   "name": "python",
   "nbconvert_exporter": "python",
   "pygments_lexer": "ipython3",
   "version": "3.6.4"
  }
 },
 "nbformat": 4,
 "nbformat_minor": 2
}
