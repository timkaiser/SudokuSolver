{
 "cells": [
  {
   "cell_type": "markdown",
   "metadata": {},
   "source": [
    "# Sudoku Solver"
   ]
  },
  {
   "cell_type": "markdown",
   "metadata": {},
   "source": [
    "_____________________________________________________________________________________________\n",
    "\n",
    "This is program will solve any input sudoku.\n",
    "Mark empty spaces with 0.\n",
    "_____________________________________________________________________________________________"
   ]
  },
  {
   "cell_type": "code",
   "execution_count": 80,
   "metadata": {},
   "outputs": [],
   "source": [
    "sudoku = [[0,3,0, 7,0,6, 0,2,8],\n",
    "          [0,0,0, 0,8,0, 0,0,9],\n",
    "          [0,0,2, 9,0,3, 5,6,0],\n",
    "          \n",
    "          [0,2,0, 0,0,0, 0,9,4],\n",
    "          [0,0,3, 5,0,4, 1,0,0],\n",
    "          [7,8,0, 0,0,0, 0,5,0],\n",
    "         \n",
    "          [0,4,7, 8,0,9, 2,0,0],\n",
    "          [2,0,0, 0,5,0, 0,0,0],\n",
    "          [9,5,0, 3,0,1, 0,4,0]]"
   ]
  },
  {
   "cell_type": "code",
   "execution_count": 113,
   "metadata": {},
   "outputs": [],
   "source": [
    "def solveRecursive(s,x,y):\n",
    "    #determine posible solutions in set\n",
    "    set = []\n",
    "    if(s[x][y]!=0):\n",
    "        set = [s[x][y]]\n",
    "    else:        \n",
    "        set = [1,2,3,4,5,6,7,8,9]\n",
    "        for n in range(1,10):\n",
    "            deleted = False\n",
    "            for i in range(0,9):\n",
    "                if(n==s[i][y]):\n",
    "                    del set[set.index(n)]\n",
    "                    deleted = True\n",
    "                    break       \n",
    "            if(not deleted):\n",
    "                for j in range(0,9):\n",
    "                    if(n==s[x][j]):\n",
    "                        del set[set.index(n)]\n",
    "                        deleted = True\n",
    "                        break\n",
    "            if(not deleted):\n",
    "                for i in range(int(x/3)*3,int(x/3)*3+3):\n",
    "                    for j in range(int(y/3)*3,int(y/3)*3+3):\n",
    "                        if(n==s[i][j]):\n",
    "                            del set[set.index(n)]\n",
    "                            deleted = True\n",
    "                            break\n",
    "\n",
    "    #iterate possible solutions \n",
    "    solved = False\n",
    "    \n",
    "    if(len(set)!=0):\n",
    "        for n in set:\n",
    "            s[x][y] = n\n",
    "            i = (x+1)%9\n",
    "            j = (y+int((x+1)/9))\n",
    "            print(i,j)\n",
    "            if(i==0 and j==9):\n",
    "                solved = True\n",
    "            else: \n",
    "                if(i<9 and j<9 and not solved):\n",
    "                    solved = solveRecursive(s,i,j)\n",
    "        if(not solved):\n",
    "            s[x][y]=0\n",
    "    return solved        \n",
    "           "
   ]
  },
  {
   "cell_type": "code",
   "execution_count": 90,
   "metadata": {},
   "outputs": [],
   "source": [
    "def printSudoku(s):\n",
    "    for l in s:\n",
    "        print(l,\"\\n\")"
   ]
  },
  {
   "cell_type": "code",
   "execution_count": 91,
   "metadata": {},
   "outputs": [
    {
     "name": "stdout",
     "output_type": "stream",
     "text": [
      "[0, 3, 0, 7, 0, 6, 0, 2, 8] \n",
      "\n",
      "[0, 0, 0, 0, 8, 0, 0, 0, 9] \n",
      "\n",
      "[0, 0, 2, 9, 0, 3, 5, 6, 0] \n",
      "\n",
      "[0, 2, 0, 0, 0, 0, 0, 9, 4] \n",
      "\n",
      "[0, 0, 3, 5, 0, 4, 1, 0, 0] \n",
      "\n",
      "[7, 8, 0, 0, 0, 0, 0, 5, 0] \n",
      "\n",
      "[0, 4, 7, 8, 0, 9, 2, 0, 0] \n",
      "\n",
      "[2, 0, 0, 0, 5, 0, 0, 0, 0] \n",
      "\n",
      "[9, 5, 0, 3, 0, 1, 0, 4, 0] \n",
      "\n"
     ]
    }
   ],
   "source": [
    "printSudoku(sudoku)"
   ]
  },
  {
   "cell_type": "code",
   "execution_count": 114,
   "metadata": {},
   "outputs": [
    {
     "name": "stdout",
     "output_type": "stream",
     "text": [
      "1 0\n",
      "2 0\n",
      "3 0\n",
      "4 0\n",
      "5 0\n",
      "6 0\n",
      "7 0\n",
      "8 0\n",
      "0 1\n",
      "1 1\n",
      "2 1\n",
      "3 1\n",
      "4 1\n",
      "5 1\n",
      "6 1\n",
      "7 1\n",
      "8 1\n",
      "0 2\n",
      "1 2\n",
      "2 2\n",
      "3 2\n",
      "4 2\n",
      "5 2\n",
      "6 2\n",
      "7 2\n",
      "8 2\n",
      "0 3\n",
      "1 3\n",
      "2 3\n",
      "3 3\n",
      "4 3\n",
      "5 3\n",
      "6 3\n",
      "7 3\n",
      "8 3\n",
      "0 4\n",
      "1 4\n",
      "2 4\n",
      "3 4\n",
      "4 4\n",
      "5 4\n",
      "6 4\n",
      "7 4\n",
      "8 4\n",
      "0 5\n",
      "1 5\n",
      "[0, 0, 0, 0, 0, 0, 0, 2, 8] \n",
      "\n",
      "[0, 0, 0, 0, 0, 0, 0, 0, 9] \n",
      "\n",
      "[0, 0, 0, 0, 0, 3, 5, 6, 0] \n",
      "\n",
      "[0, 0, 0, 0, 0, 0, 0, 9, 4] \n",
      "\n",
      "[0, 0, 0, 0, 0, 4, 1, 0, 0] \n",
      "\n",
      "[0, 0, 0, 0, 0, 0, 0, 5, 0] \n",
      "\n",
      "[0, 0, 0, 0, 0, 9, 2, 0, 0] \n",
      "\n",
      "[0, 0, 0, 0, 0, 0, 0, 0, 0] \n",
      "\n",
      "[0, 0, 0, 0, 0, 1, 0, 4, 0] \n",
      "\n"
     ]
    }
   ],
   "source": [
    "solveRecursive(sudoku,0,0)\n",
    "printSudoku(sudoku)   "
   ]
  },
  {
   "cell_type": "code",
   "execution_count": 98,
   "metadata": {},
   "outputs": [
    {
     "name": "stdout",
     "output_type": "stream",
     "text": [
      "0\n"
     ]
    }
   ],
   "source": [
    "\n",
    "    "
   ]
  },
  {
   "cell_type": "code",
   "execution_count": null,
   "metadata": {},
   "outputs": [],
   "source": []
  },
  {
   "cell_type": "code",
   "execution_count": null,
   "metadata": {},
   "outputs": [],
   "source": []
  }
 ],
 "metadata": {
  "kernelspec": {
   "display_name": "Python 3",
   "language": "python",
   "name": "python3"
  },
  "language_info": {
   "codemirror_mode": {
    "name": "ipython",
    "version": 3
   },
   "file_extension": ".py",
   "mimetype": "text/x-python",
   "name": "python",
   "nbconvert_exporter": "python",
   "pygments_lexer": "ipython3",
   "version": "3.6.4"
  }
 },
 "nbformat": 4,
 "nbformat_minor": 2
}
